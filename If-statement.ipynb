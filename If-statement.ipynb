{
 "cells": [
  {
   "cell_type": "code",
   "execution_count": 1,
   "id": "6784ed2e",
   "metadata": {},
   "outputs": [],
   "source": [
    "# Python by Example (Book)\n",
    "\n",
    "# Challenges "
   ]
  },
  {
   "cell_type": "code",
   "execution_count": 7,
   "id": "36cb6dc3",
   "metadata": {},
   "outputs": [
    {
     "name": "stdout",
     "output_type": "stream",
     "text": [
      "Enter the first number : 20\n",
      "Enter the second number : 8\n",
      "8 20\n"
     ]
    }
   ],
   "source": [
    "# 012\n",
    "\n",
    "num1 = int(input(\"Enter the first number : \"))\n",
    "num2 = int(input(\"Enter the second number : \"))\n",
    "\n",
    "if num1 > num2:\n",
    "    print(num2, num1)\n",
    "else:\n",
    "    print(num1, num2)\n",
    "    "
   ]
  },
  {
   "cell_type": "code",
   "execution_count": 25,
   "id": "71055ac0",
   "metadata": {},
   "outputs": [
    {
     "name": "stdout",
     "output_type": "stream",
     "text": [
      "Enter the number between 10 and 20 : 15\n",
      "Thank you!\n"
     ]
    }
   ],
   "source": [
    "# 014\n",
    "\n",
    "num = int(input(\"Enter the number between 10 and 20 : \"))\n",
    "\n",
    "if num >= 10 and num <= 20:\n",
    "    print(\"Thank you!\")\n",
    "else:\n",
    "    print(\"Incorrect answer!\")"
   ]
  },
  {
   "cell_type": "code",
   "execution_count": 31,
   "id": "11f5fcf8",
   "metadata": {},
   "outputs": [
    {
     "name": "stdout",
     "output_type": "stream",
     "text": [
      "Is it raining ? Yes\n",
      "Is it windy ? YES\n",
      "It is too windy for an umbrella\n"
     ]
    }
   ],
   "source": [
    "# 016\n",
    "\n",
    "rain = input(\"Is it raining ? \")\n",
    "rain = str.lower(rain)\n",
    "\n",
    "if rain == \"yes\":\n",
    "    windy = input(\"Is it windy ? \")\n",
    "    windy = windy.lower()\n",
    "    if windy == \"yes\":\n",
    "        print(\"It is too windy for an umbrella\")\n",
    "    else:\n",
    "        print(\"Take an umbrella\")\n",
    "        \n",
    "else:\n",
    "    print(\"Enjoy your day\")\n"
   ]
  },
  {
   "cell_type": "code",
   "execution_count": 38,
   "id": "ab61d0ad",
   "metadata": {},
   "outputs": [
    {
     "name": "stdout",
     "output_type": "stream",
     "text": [
      "Enter the number : 7\n",
      "Too low\n"
     ]
    }
   ],
   "source": [
    "# 018\n",
    "\n",
    "num = int(input(\"Enter the number : \"))\n",
    "\n",
    "if num < 10:\n",
    "    print(\"Too low\")\n",
    "\n",
    "elif num >= 10 and num <= 20:\n",
    "    print(\"Correct\")\n",
    "\n",
    "else:\n",
    "    print(\"Too high\")\n"
   ]
  },
  {
   "cell_type": "code",
   "execution_count": null,
   "id": "28992a21",
   "metadata": {},
   "outputs": [],
   "source": []
  }
 ],
 "metadata": {
  "kernelspec": {
   "display_name": "Python 3 (ipykernel)",
   "language": "python",
   "name": "python3"
  },
  "language_info": {
   "codemirror_mode": {
    "name": "ipython",
    "version": 3
   },
   "file_extension": ".py",
   "mimetype": "text/x-python",
   "name": "python",
   "nbconvert_exporter": "python",
   "pygments_lexer": "ipython3",
   "version": "3.9.7"
  }
 },
 "nbformat": 4,
 "nbformat_minor": 5
}
