{
 "cells": [
  {
   "cell_type": "code",
   "execution_count": 1,
   "id": "8ddb4332",
   "metadata": {},
   "outputs": [],
   "source": [
    "# Python by Example\n",
    "\n",
    "# Challenges"
   ]
  },
  {
   "cell_type": "code",
   "execution_count": 6,
   "id": "15822bb3",
   "metadata": {},
   "outputs": [
    {
     "name": "stdout",
     "output_type": "stream",
     "text": [
      "Enter the integer ? 8\n",
      "Enter the integer ? 6\n",
      "Enter the integer ? 2\n",
      "Enter the integer ? 3\n",
      "Enter the integer ? 1\n",
      "The sorted array is :  [1, 2, 3, 6, 8]\n",
      "The array in reverse order is :  array('i', [1, 3, 2, 6, 8])\n"
     ]
    }
   ],
   "source": [
    "# 088\n",
    "\n",
    "\n",
    "from array import *\n",
    "num = array('i', [])\n",
    "\n",
    "i = 0\n",
    "while i < 5:\n",
    "    user = int(input(\"Enter the integer ? \"))\n",
    "    num.append(user)\n",
    "    i = i + 1\n",
    "    \n",
    "num.reverse()\n",
    "\n",
    "print(\"The sorted array is : \", sorted(num))\n",
    "print(\"The array in reverse order is : \", num)\n"
   ]
  },
  {
   "cell_type": "code",
   "execution_count": 9,
   "id": "f84f46db",
   "metadata": {},
   "outputs": [
    {
     "name": "stdout",
     "output_type": "stream",
     "text": [
      "The integers in the array are : \n",
      "25\n",
      "27\n",
      "21\n",
      "38\n",
      "37\n"
     ]
    }
   ],
   "source": [
    "# 089\n",
    "\n",
    "\n",
    "import random\n",
    "from array import *\n",
    "\n",
    "num = array('i', [])\n",
    "i = 0\n",
    "\n",
    "while i < 5:\n",
    "    integer = random.randint(1, 50)\n",
    "    num.append(integer)\n",
    "    i = i + 1\n",
    "    \n",
    "print(\"The integers in the array are : \")    \n",
    "for i in num:\n",
    "    print(i)\n",
    "    \n",
    "    "
   ]
  },
  {
   "cell_type": "code",
   "execution_count": 15,
   "id": "90554e20",
   "metadata": {},
   "outputs": [
    {
     "name": "stdout",
     "output_type": "stream",
     "text": [
      "Array is : array('i', [2, 5, 2, 6, 6])\n",
      "Enter any number from the above array ? 6\n",
      "6 appears 2 times in the list \n"
     ]
    }
   ],
   "source": [
    "# 091\n",
    "\n",
    "\n",
    "from array import *\n",
    "\n",
    "num = array('i', [2, 5, 2, 6, 6])\n",
    "\n",
    "print(\"Array is :\", num)\n",
    "\n",
    "user = int(input(\"Enter any number from the above array ? \"))\n",
    "\n",
    "print(f\"{user} appears {num.count(user)} times in the list \")\n"
   ]
  },
  {
   "cell_type": "code",
   "execution_count": 27,
   "id": "5d10e68d",
   "metadata": {},
   "outputs": [
    {
     "name": "stdout",
     "output_type": "stream",
     "text": [
      "Enter the number ? 3\n",
      "Enter the number ? 5\n",
      "Enter the number ? 1\n",
      "The user input array is : array('i', [3, 5, 1])\n",
      "The random array is : array('i', [5, 8, 7, 7, 1])\n",
      "The two arrays after joining into a large array : array('i', [3, 5, 1, 5, 8, 7, 7, 1])\n",
      "The joined array in reverse form ?  array('i', [1, 7, 7, 8, 5, 1, 5, 3])\n",
      "The elements in array are : \n",
      "1\n",
      "7\n",
      "7\n",
      "8\n",
      "5\n",
      "1\n",
      "5\n",
      "3\n"
     ]
    }
   ],
   "source": [
    "# 092\n",
    "\n",
    "\n",
    "import random\n",
    "from array import *\n",
    "\n",
    "user_array = array('i', [])\n",
    "rand_array = array('i', [])\n",
    "\n",
    "i = 0\n",
    "while i < 3:\n",
    "    user = int(input(\"Enter the number ? \"))\n",
    "    user_array.append(user)\n",
    "    i = i + 1 \n",
    "    \n",
    "print(\"The user input array is :\", user_array)\n",
    "\n",
    "\n",
    "j = 0\n",
    "while j < 5:\n",
    "    rand = random.randint(1, 10)\n",
    "    rand_array.append(rand)\n",
    "    j = j + 1\n",
    "    \n",
    "print(\"The random array is :\", rand_array)\n",
    "\n",
    "user_array.extend(rand_array)\n",
    "\n",
    "print(\"The two arrays after joining into a large array :\", user_array)\n",
    "\n",
    "user_array.reverse()\n",
    "\n",
    "print(\"The joined array in reverse form ? \", user_array)\n",
    "\n",
    "print(\"The elements in array are : \")\n",
    "for i in user_array:\n",
    "    print(i)"
   ]
  },
  {
   "cell_type": "code",
   "execution_count": 31,
   "id": "aca27279",
   "metadata": {},
   "outputs": [
    {
     "name": "stdout",
     "output_type": "stream",
     "text": [
      "Enter the number ? 4\n",
      "Enter the number ? 9\n",
      "Enter the number ? 7\n",
      "Enter the number ? 2\n",
      "Enter the number ? 1\n",
      "The sorted array is :  [1, 2, 4, 7, 9]\n",
      "Select the number thay you want to remove from array and save into a new array ? 4\n",
      "After deleting a number the array is : array('i', [9, 7, 2, 1])\n",
      "The new array that contains removed number is :  array('i', [4])\n"
     ]
    }
   ],
   "source": [
    "# 093\n",
    "\n",
    "\n",
    "from array import * \n",
    "\n",
    "number = array('i', [])\n",
    "new_array = array('i', [])\n",
    "\n",
    "i = 0\n",
    "while i < 5:\n",
    "    user = int(input(\"Enter the number ? \"))\n",
    "    number.append(user)\n",
    "    i = i + 1\n",
    "    \n",
    "    \n",
    "print(\"The sorted array is : \", sorted(number))\n",
    "\n",
    "select = int(input(\"Select the number thay you want to remove from array and save into a new array ? \"))\n",
    "\n",
    "number.remove(select)\n",
    "\n",
    "new_array.append(select)\n",
    "\n",
    "print(\"After deleting a number the array is :\", number)\n",
    "print(\"The new array that contains removed number is : \", new_array)\n",
    "\n"
   ]
  },
  {
   "cell_type": "code",
   "execution_count": 3,
   "id": "6cfa0aa8",
   "metadata": {},
   "outputs": [
    {
     "name": "stdout",
     "output_type": "stream",
     "text": [
      "The array of numbers is :  array('i', [3, 5, 1, 9, 7])\n",
      "Select a number that you want to show its index ? 10\n",
      "Try again\n",
      "Select a number that you want to show its index ? 2\n",
      "Try again\n",
      "Select a number that you want to show its index ? 8\n",
      "Try again\n",
      "Select a number that you want to show its index ? 1\n",
      "The index of the number is :  2\n"
     ]
    }
   ],
   "source": [
    "# 094\n",
    "\n",
    "\n",
    "from array import *\n",
    "\n",
    "array_ = array('i', [3, 5, 1, 9, 7])\n",
    "print(\"The array of numbers is : \", array_)\n",
    "\n",
    "i = True\n",
    "while i == True:\n",
    "    choice = int(input(\"Select a number that you want to show its index ? \"))\n",
    "    if choice in array_:\n",
    "        print(\"The index of the number is : \", array_.index(choice))\n",
    "        i = False\n",
    "        \n",
    "    else:\n",
    "        print(\"Try again\")\n",
    "        \n"
   ]
  },
  {
   "cell_type": "code",
   "execution_count": 12,
   "id": "3ef75d65",
   "metadata": {},
   "outputs": [
    {
     "name": "stdout",
     "output_type": "stream",
     "text": [
      "Enter a number between 2 and 5 ? 4\n",
      "2.61\n",
      "3.67\n",
      "16.97\n",
      "22.5\n",
      "24.78\n"
     ]
    }
   ],
   "source": [
    "# 095\n",
    "\n",
    "\n",
    "from array import *\n",
    "\n",
    "array_ = array('f', [10.43, 14.67, 67.88, 90.01, 99.11])\n",
    "i = True\n",
    "\n",
    "while i == True:\n",
    "    choice = int(input(\"Enter a number between 2 and 5 ? \"))\n",
    "    if choice in [2, 3, 4, 5]:\n",
    "        for j in range(5):          # for j in array_  (it is not possible as it is not a list, it's an array)\n",
    "            array_1 = array_[j]/choice\n",
    "            print(round(array_1, 2))\n",
    "        i = False         \n",
    "    else:\n",
    "        print(\"Try again\")\n",
    "     "
   ]
  },
  {
   "cell_type": "code",
   "execution_count": null,
   "id": "851ba02a",
   "metadata": {},
   "outputs": [],
   "source": []
  }
 ],
 "metadata": {
  "kernelspec": {
   "display_name": "Python 3 (ipykernel)",
   "language": "python",
   "name": "python3"
  },
  "language_info": {
   "codemirror_mode": {
    "name": "ipython",
    "version": 3
   },
   "file_extension": ".py",
   "mimetype": "text/x-python",
   "name": "python",
   "nbconvert_exporter": "python",
   "pygments_lexer": "ipython3",
   "version": "3.9.7"
  }
 },
 "nbformat": 4,
 "nbformat_minor": 5
}
