{
 "cells": [
  {
   "cell_type": "code",
   "execution_count": 1,
   "id": "cd7c9955",
   "metadata": {},
   "outputs": [],
   "source": [
    "# Python by Example\n",
    "\n",
    "# Challenges"
   ]
  },
  {
   "cell_type": "code",
   "execution_count": 2,
   "id": "e9d44912",
   "metadata": {},
   "outputs": [
    {
     "name": "stdout",
     "output_type": "stream",
     "text": [
      "Random number between 1 and 100 is :  64\n"
     ]
    }
   ],
   "source": [
    "# 052\n",
    "\n",
    "import random\n",
    "\n",
    "number = random.randint(1, 100)\n",
    "print(\"Random number between 1 and 100 is : \", number)"
   ]
  },
  {
   "cell_type": "code",
   "execution_count": 3,
   "id": "4fbef730",
   "metadata": {},
   "outputs": [
    {
     "name": "stdout",
     "output_type": "stream",
     "text": [
      "The random fruit between 5 fruits :  Straw berry\n"
     ]
    }
   ],
   "source": [
    "# 053\n",
    "\n",
    "import random\n",
    "\n",
    "fruit = random.choice([\"Banana\", \"Mango\", \"Grapes\", \"Apple\", \"Straw berry\"])\n",
    "print(\"The random fruit between 5 fruits : \", fruit)"
   ]
  },
  {
   "cell_type": "code",
   "execution_count": 4,
   "id": "527a3bc7",
   "metadata": {},
   "outputs": [
    {
     "name": "stdout",
     "output_type": "stream",
     "text": [
      "Enter your choice (h/t) ? t\n",
      "Bad luck\n",
      "It was heads\n"
     ]
    }
   ],
   "source": [
    "# 054\n",
    "\n",
    "import random\n",
    "\n",
    "option = random.choice([\"h\", \"t\"])\n",
    "\n",
    "choice = str(input(\"Enter your choice (h/t) ? \"))\n",
    "\n",
    "if choice == option:\n",
    "    print(\"You win!\")\n",
    "    \n",
    "else:\n",
    "    print(\"Bad luck\")\n",
    "    \n",
    "    if option == \"h\":\n",
    "        print(\"It was heads\")\n",
    "        \n",
    "    else:\n",
    "        print(\"It was tails\")\n",
    "    \n"
   ]
  },
  {
   "cell_type": "code",
   "execution_count": 5,
   "id": "8221f0e3",
   "metadata": {},
   "outputs": [
    {
     "name": "stdout",
     "output_type": "stream",
     "text": [
      "Enter the guess number correctly ? 3\n",
      "Too high\n",
      "Enter the guess number correctly ? 1\n",
      "Correct\n"
     ]
    }
   ],
   "source": [
    "# 055\n",
    "\n",
    "\n",
    "import random\n",
    "number = random.randint(1, 5)\n",
    "\n",
    "user = int(input(\"Enter the guess number correctly ? \"))\n",
    "\n",
    "if user == number:\n",
    "    print(\"Well done\")\n",
    "    \n",
    "elif user < number:\n",
    "    print(\"Too low\")\n",
    "    user = int(input(\"Enter the guess number correctly ? \"))\n",
    "    \n",
    "    if user == number:\n",
    "        print(\"Correct\")\n",
    "        \n",
    "    else:\n",
    "        print(\"You lose\")\n",
    "        \n",
    "elif user > number:\n",
    "    print(\"Too high\")\n",
    "    user = int(input(\"Enter the guess number correctly ? \"))\n",
    "    \n",
    "    if user == number:\n",
    "        print(\"Correct\")\n",
    "        \n",
    "    else:\n",
    "        print(\"You lose\")\n",
    "        \n",
    "\n",
    "    "
   ]
  },
  {
   "cell_type": "code",
   "execution_count": 6,
   "id": "8e6da218",
   "metadata": {},
   "outputs": [
    {
     "name": "stdout",
     "output_type": "stream",
     "text": [
      "Enter the guess number : 2\n",
      "Too Low\n",
      "Enter the guess number : 5\n",
      "This number is correctly guessed :  5\n"
     ]
    }
   ],
   "source": [
    "# 056 and 057\n",
    "\n",
    "import random\n",
    "\n",
    "number = random.randint(1, 10)\n",
    "\n",
    "ask = 0\n",
    "\n",
    "while number != ask:\n",
    "    ask = int(input(\"Enter the guess number : \"))\n",
    "    \n",
    "    if ask < number:\n",
    "        print(\"Too Low\")\n",
    "        \n",
    "    elif ask > number:\n",
    "        print(\"Too High\")\n",
    "\n",
    "print(\"This number is correctly guessed : \", number)\n"
   ]
  },
  {
   "cell_type": "code",
   "execution_count": 7,
   "id": "40e7df21",
   "metadata": {},
   "outputs": [
    {
     "name": "stdout",
     "output_type": "stream",
     "text": [
      "Simple Math Quiz\n",
      "Answer the following 5 questions : \n",
      "Answer the question 1 : 19\n",
      "Answer the question 2 : 11\n",
      "Answer the question 3 : 6\n",
      "Answer the question 4 : 20\n",
      "Answer the question 5 : 14\n",
      "Out of 5 questions, 1 questions were correct, so the score will be 1\n"
     ]
    }
   ],
   "source": [
    "# 058\n",
    "\n",
    "\n",
    "import random\n",
    "\n",
    "quiz = print(\"Simple Math Quiz\")\n",
    "title = print(\"Answer the following 5 questions : \")\n",
    "score = 0\n",
    "\n",
    "num = 1\n",
    "while num <= 5:\n",
    "    num1 = random.randint(1, 10)\n",
    "    num2 = random.randint(1, 10)\n",
    "    \n",
    "    ques = num1 + num2\n",
    "    \n",
    "    ques_1 = int(input(f\"Answer the question {num} : \"))\n",
    "    num = num + 1\n",
    "    \n",
    "    if ques_1 == ques:\n",
    "        score = score + 1\n",
    "        \n",
    "    else:\n",
    "        score = score\n",
    "        \n",
    "print(f\"Out of 5 questions, {score} questions were correct, so the score will be {score}\")\n"
   ]
  },
  {
   "cell_type": "code",
   "execution_count": 14,
   "id": "9f2d053f",
   "metadata": {},
   "outputs": [
    {
     "name": "stdout",
     "output_type": "stream",
     "text": [
      "Colours are -->  Yellow, Blue, White, Black, Red\n",
      "Pick the one colour from above choices : Red\n",
      "You are probably feeling Red right now\n",
      "Pick the one colour from above choices : Blue\n",
      "Don't feel Blue\n",
      "Pick the one colour from above choices : White\n",
      "You are probably feeling White right now\n",
      "Pick the one colour from above choices : Yellow\n",
      "Well done\n"
     ]
    }
   ],
   "source": [
    "# 059\n",
    "\n",
    "\n",
    "import random\n",
    "\n",
    "print(\"Colours are -->  Yellow, Blue, White, Black, Red\")\n",
    "colours = random.choice([\"Yellow\", \"Blue\", \"White\", \"Black\", \"Red\"])\n",
    "\n",
    "num = 1\n",
    "while num <= 5:\n",
    "    choice = str(input(\"Pick the one colour from above choices : \"))\n",
    "    num = num + 1\n",
    "    if choice == colours:\n",
    "        print(\"Well done\")\n",
    "        num = 6\n",
    "        \n",
    "    else:\n",
    "        if choice == \"Red\" or choice == \"White\" or choice == \"Black\":\n",
    "            print(\"You are probably feeling\",choice, \"right now\")\n",
    "        else:\n",
    "            print(\"Don't feel\", choice)\n",
    "    "
   ]
  }
 ],
 "metadata": {
  "kernelspec": {
   "display_name": "Python 3 (ipykernel)",
   "language": "python",
   "name": "python3"
  },
  "language_info": {
   "codemirror_mode": {
    "name": "ipython",
    "version": 3
   },
   "file_extension": ".py",
   "mimetype": "text/x-python",
   "name": "python",
   "nbconvert_exporter": "python",
   "pygments_lexer": "ipython3",
   "version": "3.9.7"
  }
 },
 "nbformat": 4,
 "nbformat_minor": 5
}
