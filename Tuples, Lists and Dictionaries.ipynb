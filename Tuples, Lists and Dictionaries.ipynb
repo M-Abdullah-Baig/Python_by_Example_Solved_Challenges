{
 "cells": [
  {
   "cell_type": "code",
   "execution_count": 1,
   "id": "afa53cac",
   "metadata": {},
   "outputs": [],
   "source": [
    "# Python by Example\n",
    "\n",
    "# Challenges"
   ]
  },
  {
   "cell_type": "code",
   "execution_count": 3,
   "id": "b6e8003a",
   "metadata": {},
   "outputs": [
    {
     "name": "stdout",
     "output_type": "stream",
     "text": [
      "Countries are :  ('Pakistan', 'India', 'Australia', 'France', 'USA')\n",
      "Enter the country that have shown to them ? USA\n",
      "Position of the country in the list :  4\n"
     ]
    }
   ],
   "source": [
    "# 069\n",
    "\n",
    "countries = (\"Pakistan\", \"India\", \"Australia\", \"France\", \"USA\")\n",
    "print(\"Countries are : \", countries)\n",
    "\n",
    "user = str(input(\"Enter the country that have shown to them ? \"))\n",
    "\n",
    "print(\"Position of the country in the list : \", countries.index(user))\n"
   ]
  },
  {
   "cell_type": "code",
   "execution_count": 7,
   "id": "c524e9bf",
   "metadata": {},
   "outputs": [
    {
     "name": "stdout",
     "output_type": "stream",
     "text": [
      "Countries are :  ('Pakistan', 'India', 'Australia', 'France', 'USA')\n",
      "Enter the number and country will display it : 3\n",
      "Display Country is :  France\n"
     ]
    }
   ],
   "source": [
    "# 070\n",
    "\n",
    "countries = (\"Pakistan\", \"India\", \"Australia\", \"France\", \"USA\")\n",
    "print(\"Countries are : \", countries)\n",
    "\n",
    "user = int(input(\"Enter the number and country will display it : \"))\n",
    "print(\"Display Country is : \", countries[user])"
   ]
  },
  {
   "cell_type": "code",
   "execution_count": 11,
   "id": "60f04a75",
   "metadata": {},
   "outputs": [
    {
     "name": "stdout",
     "output_type": "stream",
     "text": [
      "What's your favourite sport is ? Cricket\n",
      "Sorted list will be :  ['Cricket', 'Cricket', 'Football']\n"
     ]
    }
   ],
   "source": [
    "# 071\n",
    "\n",
    "sport = [\"Cricket\", \"Football\"]\n",
    "\n",
    "user = str(input(\"What's your favourite sport is ? \"))\n",
    "\n",
    "sport.append(user)\n",
    "\n",
    "sport.sort()\n",
    "\n",
    "print(\"Sorted list will be : \", sport)\n"
   ]
  },
  {
   "cell_type": "code",
   "execution_count": 2,
   "id": "f21794c3",
   "metadata": {},
   "outputs": [
    {
     "name": "stdout",
     "output_type": "stream",
     "text": [
      "How many subjects do you don't like it ? 3\n",
      "Which of the subject they don't like ? Science\n",
      "Which of the subject they don't like ? PST\n",
      "Which of the subject they don't like ? Urdu\n",
      "The list of subjects that you like it :  ['Math', 'English', 'ISL']\n"
     ]
    }
   ],
   "source": [
    "# 072\n",
    "\n",
    "\n",
    "subjects = [\"Math\", \"English\", \"Urdu\", \"PST\", \"ISL\", \"Science\"]\n",
    "\n",
    "choice = int(input(\"How many subjects do you don't like it ? \"))\n",
    "num = 0\n",
    "\n",
    "while num < choice:\n",
    "    user = str(input(\"Which of the subject they don't like ? \"))\n",
    "    subjects.remove(user)\n",
    "    num = num + 1\n",
    "\n",
    "print(\"The list of subjects that you like it : \", subjects)\n"
   ]
  },
  {
   "cell_type": "code",
   "execution_count": 18,
   "id": "08290b2e",
   "metadata": {},
   "outputs": [
    {
     "name": "stdout",
     "output_type": "stream",
     "text": [
      "Enter the favourite food dish ? Biryani\n",
      "Enter the favourite food dish ? Broast\n",
      "Enter the favourite food dish ? Zinger\n",
      "Enter the favourite food dish ? Nihari\n",
      "{1: 'Biryani', 2: 'Broast', 3: 'Zinger', 4: 'Nihari'}\n",
      "Enter the name of food that you want to remove ? 2\n",
      "The sorted list of foods are :  ['Biryani', 'Nihari', 'Zinger']\n"
     ]
    }
   ],
   "source": [
    "# 073\n",
    "\n",
    "food_item = {}\n",
    "num = 1\n",
    "while num <= 4:\n",
    "    food = str(input(\"Enter the favourite food dish ? \"))\n",
    "    food_item.update({num : food})\n",
    "    num = num + 1\n",
    "    \n",
    "print(food_item)\n",
    "\n",
    "choice = int(input(\"Enter the name of food that you want to remove ? \"))\n",
    "del food_item[choice]\n",
    "\n",
    "print(\"The sorted list of foods are : \", sorted(food_item.values()))\n"
   ]
  },
  {
   "cell_type": "code",
   "execution_count": 22,
   "id": "16d11e7c",
   "metadata": {},
   "outputs": [
    {
     "name": "stdout",
     "output_type": "stream",
     "text": [
      "Enter the start index of color ? (0-4) 2\n",
      "Enter the end index of color ? (5-9) 6\n",
      "The list of desired colors will be :  ['Blue', 'Yellow', 'Orange', 'Purple']\n"
     ]
    }
   ],
   "source": [
    "# 074\n",
    "\n",
    "\n",
    "colors = [\"Red\", \"Green\", \"Blue\", \"Yellow\", \"Orange\", \"Purple\", \"White\", \"Black\", \"Gray\", \"Pink\"]\n",
    "start = int(input(\"Enter the start index of color ? (0-4) \"))\n",
    "end = int(input(\"Enter the end index of color ? (5-9) \"))\n",
    "print(\"The list of desired colors will be : \", colors[start:end])\n"
   ]
  },
  {
   "cell_type": "code",
   "execution_count": 4,
   "id": "9a93d68d",
   "metadata": {},
   "outputs": [
    {
     "name": "stdout",
     "output_type": "stream",
     "text": [
      "100\n",
      "200\n",
      "300\n",
      "400\n",
      "Enter the 3 digit number : 300\n",
      "The index of the matched number from the list is :  2\n"
     ]
    }
   ],
   "source": [
    "# 075\n",
    "\n",
    "numbers = [100, 200, 300, 400]\n",
    "\n",
    "for i in numbers:\n",
    "    print(i)\n",
    "\n",
    "\n",
    "user = int(input(\"Enter the 3 digit number : \"))\n",
    "\n",
    "\n",
    "if user in numbers:\n",
    "    print(\"The index of the matched number from the list is : \", numbers.index(user))\n",
    "    \n",
    "else:\n",
    "    print(\"That is not in the list\")\n",
    "        \n",
    "    "
   ]
  },
  {
   "cell_type": "code",
   "execution_count": 4,
   "id": "993662c8",
   "metadata": {},
   "outputs": [
    {
     "name": "stdout",
     "output_type": "stream",
     "text": [
      "Enter the name of a people do you want to invite ? Muchu\n",
      "Do you want to add another one ? yes\n",
      "Enter the name of a people do you want to invite ? Bilal\n",
      "Do you want to add another one ? yes\n",
      "Enter the name of a people do you want to invite ? Amna\n",
      "Do you want to add another one ? yes\n",
      "Enter the name of a people do you want to invite ? Yusra\n",
      "Do you want to add another one ? yes\n",
      "Enter the name of a people do you want to invite ? Sana\n",
      "Do you want to add another one ? yes\n",
      "Enter the name of a people do you want to invite ? Huzaifa\n",
      "Do you want to add another one ? yes\n",
      "Enter the name of a people do you want to invite ? Rimla\n",
      "Do you want to add another one ? no\n",
      "The invited list of people will be :  ['Muchu', 'Bilal', 'Amna', 'Yusra', 'Sana', 'Huzaifa', 'Rimla']\n",
      "Get the index of one of the names in the list ? Amna\n",
      "The position of name is :  2\n",
      "Do you still want to come Amna in a party ?no\n",
      "The invited list of people will be :  ['Muchu', 'Bilal', 'Yusra', 'Sana', 'Huzaifa', 'Rimla']\n"
     ]
    }
   ],
   "source": [
    "# 076 and 077\n",
    "\n",
    "invited_list = []\n",
    "again = True\n",
    "\n",
    "while again == True:\n",
    "    user = str(input(\"Enter the name of a people do you want to invite ? \"))\n",
    "    invited_list.append(user)\n",
    "    ask = str(input(\"Do you want to add another one ? \"))\n",
    "    if ask == \"no\":\n",
    "        again= False\n",
    "        \n",
    "        \n",
    "print(\"The invited list of people will be : \", invited_list)\n",
    "        \n",
    "        \n",
    "choice = str(input(\"Get the index of one of the names in the list ? \"))\n",
    "print(\"The position of name is : \", invited_list.index(choice))\n",
    "    \n",
    "ask = str(input(f\"Do you still want to come {choice} in a party ?\"))   \n",
    "if ask == \"no\":\n",
    "    invited_list.remove(choice)\n",
    "    \n",
    "\n",
    "print(\"The invited list of people will be : \", invited_list)"
   ]
  },
  {
   "cell_type": "code",
   "execution_count": 9,
   "id": "28dd9ff2",
   "metadata": {},
   "outputs": [
    {
     "name": "stdout",
     "output_type": "stream",
     "text": [
      "The TV shows are : \n",
      "CID\n",
      "Aahat\n",
      "TBH\n",
      "Morning show\n",
      "The list of TV shows after add 1 more program on 2nd index place  :  ['CID', 'Crime Patrol', 'Aahat', 'TBH', 'Morning show']\n"
     ]
    }
   ],
   "source": [
    "# 078\n",
    "\n",
    "\n",
    "TV_shows = [\"CID\", \"Aahat\", \"TBH\", \"Morning show\"]\n",
    "print(\"The TV shows are : \")\n",
    "\n",
    "for i in TV_shows:\n",
    "    print(i)\n",
    "\n",
    "add = TV_shows.insert(1, \"Crime Patrol\")\n",
    "\n",
    "print(\"The list of TV shows after add 1 more program on 2nd index place  : \", TV_shows)\n",
    "    "
   ]
  },
  {
   "cell_type": "code",
   "execution_count": 3,
   "id": "86e2f586",
   "metadata": {},
   "outputs": [
    {
     "name": "stdout",
     "output_type": "stream",
     "text": [
      "Enter the number : 1\n",
      "[1]\n",
      "Enter the number : 2\n",
      "[1, 2]\n",
      "Enter the number : 3\n",
      "[1, 2, 3]\n",
      "Are you want to saved the last number ?no\n",
      "The updated list will be :  [1, 2]\n"
     ]
    }
   ],
   "source": [
    "# 079\n",
    "\n",
    "\n",
    "nums = []\n",
    "i = 0\n",
    "\n",
    "while i < 3:\n",
    "    number = int(input(\"Enter the number : \"))\n",
    "    nums.append(number)\n",
    "    print(nums)\n",
    "    i = i + 1\n",
    "    \n",
    "choice = str(input(\"Are you want to saved the last number ?\"))\n",
    "if choice == \"no\":\n",
    "    del nums[-1]\n",
    "    \n",
    "print(\"The updated list will be : \", nums)\n",
    "\n"
   ]
  },
  {
   "cell_type": "code",
   "execution_count": null,
   "id": "d8c5ea7b",
   "metadata": {},
   "outputs": [],
   "source": []
  }
 ],
 "metadata": {
  "kernelspec": {
   "display_name": "Python 3 (ipykernel)",
   "language": "python",
   "name": "python3"
  },
  "language_info": {
   "codemirror_mode": {
    "name": "ipython",
    "version": 3
   },
   "file_extension": ".py",
   "mimetype": "text/x-python",
   "name": "python",
   "nbconvert_exporter": "python",
   "pygments_lexer": "ipython3",
   "version": "3.9.7"
  }
 },
 "nbformat": 4,
 "nbformat_minor": 5
}
