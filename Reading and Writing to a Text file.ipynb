{
 "cells": [
  {
   "cell_type": "code",
   "execution_count": 2,
   "id": "f11635d0",
   "metadata": {},
   "outputs": [],
   "source": [
    "# Python by Example\n",
    "\n",
    "# Challenges"
   ]
  },
  {
   "cell_type": "code",
   "execution_count": 47,
   "id": "3c96e35b",
   "metadata": {},
   "outputs": [],
   "source": [
    "# 105\n",
    "\n",
    "file = open('Numbers.txt', 'w')\n",
    "file.write(\"34, \")\n",
    "file.write(\"22, \")\n",
    "file.write(\"100, \")\n",
    "file.write(\"90, \")\n",
    "file.write(\"67, \")\n",
    "file.close()\n",
    "\n"
   ]
  },
  {
   "cell_type": "code",
   "execution_count": 48,
   "id": "f1703341",
   "metadata": {},
   "outputs": [],
   "source": [
    "# 106\n",
    "\n",
    "file = open(\"Names.txt\", \"w\")\n",
    "file.write(\"David\\n\")\n",
    "file.write(\"Watson\\n\")\n",
    "file.write(\"Meee\\n\")\n",
    "file.write(\"Bairstow\\n\")\n",
    "file.write(\"Wilson\\n\")\n",
    "file.close()\n",
    "\n"
   ]
  },
  {
   "cell_type": "code",
   "execution_count": 49,
   "id": "c17fb4d6",
   "metadata": {},
   "outputs": [
    {
     "name": "stdout",
     "output_type": "stream",
     "text": [
      "David\n",
      "Watson\n",
      "Meee\n",
      "Bairstow\n",
      "Wilson\n",
      "\n"
     ]
    }
   ],
   "source": [
    "# 107\n",
    "\n",
    "file = open(\"Names.txt\", \"r\")\n",
    "print(file.read())\n",
    "file.close()\n"
   ]
  },
  {
   "cell_type": "code",
   "execution_count": 50,
   "id": "daf288c8",
   "metadata": {},
   "outputs": [
    {
     "name": "stdout",
     "output_type": "stream",
     "text": [
      "Enter a name ? Ketty\n",
      "David\n",
      "Watson\n",
      "Meee\n",
      "Bairstow\n",
      "Wilson\n",
      "Ketty\n"
     ]
    }
   ],
   "source": [
    "# 108\n",
    "\n",
    "file = open(\"Names.txt\", \"a\")\n",
    "name = str(input(\"Enter a name ? \"))\n",
    "file.write(name)\n",
    "file.close()\n",
    "\n",
    "file = open(\"Names.txt\", \"r\")\n",
    "print(file.read())\n",
    "file.close()\n"
   ]
  },
  {
   "cell_type": "code",
   "execution_count": 55,
   "id": "ff67d95b",
   "metadata": {},
   "outputs": [
    {
     "name": "stdout",
     "output_type": "stream",
     "text": [
      "1) Create a new file \n",
      "2) Display the file \n",
      "3) Add a new item to the file \n",
      "Make a selection 1, 2 or 3 ? 3\n",
      "Enter a School subject : Urdu\n",
      "The content of file :\n",
      " Math \n",
      "Science \n",
      "Urdu \n",
      "\n"
     ]
    }
   ],
   "source": [
    "# 109\n",
    "\n",
    "\n",
    "print(\"1) Create a new file \")\n",
    "print(\"2) Display the file \")\n",
    "print(\"3) Add a new item to the file \")\n",
    "\n",
    "select = int(input(\"Make a selection 1, 2 or 3 ? \"))\n",
    "\n",
    "\n",
    "if select == 1:\n",
    "    user = str(input(\"Enter a School subject : \"))\n",
    "    file = open(\"Subject.txt\", \"w\")\n",
    "    file.write(f\"{user} \\n\")\n",
    "    file.close()\n",
    "         \n",
    "elif select == 2:\n",
    "    file = open(\"Subject.txt\", \"r\")\n",
    "    print(\"The content of file :\\n\", file.read())\n",
    "        \n",
    "elif select == 3:\n",
    "    user = str(input(\"Enter a School subject : \"))\n",
    "    file = open(\"Subject.txt\", \"a\")\n",
    "    file.write(f\"{user} \\n\")\n",
    "    file.close()\n",
    "        \n",
    "    file = open(\"Subject.txt\", \"r\")\n",
    "    print(\"The content of file :\\n\", file.read())\n",
    "        \n",
    "else: \n",
    "    print(\"Invalid option\")\n",
    "    "
   ]
  },
  {
   "cell_type": "code",
   "execution_count": 60,
   "id": "fcda00fb",
   "metadata": {},
   "outputs": [
    {
     "name": "stdout",
     "output_type": "stream",
     "text": [
      "David\n",
      "Watson\n",
      "Meee\n",
      "Bairstow\n",
      "Wilson\n",
      "Ketty\n",
      "Enter the name from list ? Bairstow\n"
     ]
    }
   ],
   "source": [
    "# 110\n",
    "\n",
    "\n",
    "file = open(\"Names.txt\", \"r\")\n",
    "print(file.read())\n",
    "file.close()\n",
    "\n",
    "file = open(\"Names.txt\", \"r\")\n",
    "selectedname = str(input(\"Enter the name from list ? \"))\n",
    "selectedname = selectedname + \"\\n\"\n",
    "\n",
    "for row in file:\n",
    "    if row != selectedname:\n",
    "        file = open(\"Names1.txt\", \"a\")\n",
    "        newrecord = row\n",
    "        file.write(newrecord)\n",
    "        file.close()\n",
    "        \n",
    "file.close()\n",
    "        \n",
    "\n"
   ]
  },
  {
   "cell_type": "code",
   "execution_count": null,
   "id": "7f271a6c",
   "metadata": {},
   "outputs": [],
   "source": []
  }
 ],
 "metadata": {
  "kernelspec": {
   "display_name": "Python 3 (ipykernel)",
   "language": "python",
   "name": "python3"
  },
  "language_info": {
   "codemirror_mode": {
    "name": "ipython",
    "version": 3
   },
   "file_extension": ".py",
   "mimetype": "text/x-python",
   "name": "python",
   "nbconvert_exporter": "python",
   "pygments_lexer": "ipython3",
   "version": "3.9.7"
  }
 },
 "nbformat": 4,
 "nbformat_minor": 5
}
