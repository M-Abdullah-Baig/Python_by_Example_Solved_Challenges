{
 "cells": [
  {
   "cell_type": "code",
   "execution_count": 1,
   "id": "b0033ac1",
   "metadata": {},
   "outputs": [],
   "source": [
    "# Python by Example (Book)\n",
    "\n",
    "# Challenges "
   ]
  },
  {
   "cell_type": "code",
   "execution_count": 48,
   "id": "6fe2cf2f",
   "metadata": {},
   "outputs": [
    {
     "name": "stdout",
     "output_type": "stream",
     "text": [
      "Enter the first name : Syed Muhammad Mustafa\n",
      "The length of the first name is :  21\n"
     ]
    }
   ],
   "source": [
    "# 020\n",
    "\n",
    "name = input(\"Enter the first name : \")\n",
    "\n",
    "print(\"The length of the first name is : \", len(name))"
   ]
  },
  {
   "cell_type": "code",
   "execution_count": 49,
   "id": "9cf536bf",
   "metadata": {},
   "outputs": [
    {
     "name": "stdout",
     "output_type": "stream",
     "text": [
      "Enter the first name : Syed Muhammad\n",
      "Enter the sur name : Bilal\n",
      "The full name will be :  Syed Muhammad Bilal and the length will be :  19\n"
     ]
    }
   ],
   "source": [
    "# 021\n",
    "\n",
    "first_name = input(\"Enter the first name : \")\n",
    "sur_name = input(\"Enter the sur name : \")\n",
    "\n",
    "full_name = first_name + \" \" + sur_name\n",
    "\n",
    "print(\"The full name will be : \", full_name, \"and the length will be : \", len(full_name))\n"
   ]
  },
  {
   "cell_type": "code",
   "execution_count": 23,
   "id": "5cf70ddb",
   "metadata": {},
   "outputs": [
    {
     "name": "stdout",
     "output_type": "stream",
     "text": [
      "Enter the first name : muhammad abdullah\n",
      "Enter the sur name : baig\n",
      "The full name will be :  Muhammad Abdullah Baig\n"
     ]
    }
   ],
   "source": [
    "# 022\n",
    "\n",
    "first_name = input(\"Enter the first name : \")\n",
    "first_name = first_name.title()\n",
    "\n",
    "sur_name = input(\"Enter the sur name : \")\n",
    "sur_name = sur_name.title()\n",
    "\n",
    "full_name = first_name + \" \" + sur_name\n",
    "\n",
    "print(\"The full name will be : \", full_name)"
   ]
  },
  {
   "cell_type": "code",
   "execution_count": 25,
   "id": "105c54ec",
   "metadata": {},
   "outputs": [
    {
     "name": "stdout",
     "output_type": "stream",
     "text": [
      "Enter the phrase : nursery rhyme\n",
      "Phrase :  nursery rhyme\n",
      "The length of phrase is :  13\n",
      "Enter the starting index of pharse : 0\n",
      "Enter the ending index of pharse : 14\n",
      "Pharse :  nursery rhyme\n"
     ]
    }
   ],
   "source": [
    "# 023\n",
    "\n",
    "phrase = input(\"Enter the phrase : \")\n",
    "print(\"Phrase : \", phrase)\n",
    "print(\"The length of phrase is : \", len(phrase))\n",
    "start = int(input(\"Enter the starting index of pharse : \"))\n",
    "end = int(input(\"Enter the ending index of pharse : \"))\n",
    "\n",
    "part = phrase[start:end]\n",
    "print(\"Pharse : \", part)"
   ]
  },
  {
   "cell_type": "code",
   "execution_count": 50,
   "id": "a0512574",
   "metadata": {},
   "outputs": [
    {
     "name": "stdout",
     "output_type": "stream",
     "text": [
      "Enter any word ? audi-E-tron\n",
      "AUDI-E-TRON\n"
     ]
    }
   ],
   "source": [
    "# 024\n",
    "\n",
    "word = input(\"Enter any word ? \")\n",
    "upper_word = word.upper()\n",
    "print(upper_word)"
   ]
  },
  {
   "cell_type": "code",
   "execution_count": 75,
   "id": "0fb77a81",
   "metadata": {},
   "outputs": [
    {
     "name": "stdout",
     "output_type": "stream",
     "text": [
      "Enter the word : Pig Latin\n",
      "ig latinpay\n"
     ]
    }
   ],
   "source": [
    "# 026\n",
    "\n",
    "word = input(\"Enter the word : \")\n",
    "word = word.lower()\n",
    "\n",
    "if word[0] == 'a' or word[0] == 'e' or word[0] == 'i' or word[0] == 'o' or word[0] == 'u':\n",
    "    word = word + \"way\"\n",
    "    print(word)\n",
    "else:\n",
    "    word = word[1:] + word[0] + \"ay\"\n",
    "    print(word)\n"
   ]
  }
 ],
 "metadata": {
  "kernelspec": {
   "display_name": "Python 3 (ipykernel)",
   "language": "python",
   "name": "python3"
  },
  "language_info": {
   "codemirror_mode": {
    "name": "ipython",
    "version": 3
   },
   "file_extension": ".py",
   "mimetype": "text/x-python",
   "name": "python",
   "nbconvert_exporter": "python",
   "pygments_lexer": "ipython3",
   "version": "3.9.7"
  }
 },
 "nbformat": 4,
 "nbformat_minor": 5
}
