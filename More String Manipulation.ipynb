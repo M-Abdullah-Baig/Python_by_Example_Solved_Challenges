{
 "cells": [
  {
   "cell_type": "code",
   "execution_count": 1,
   "id": "925617f5",
   "metadata": {},
   "outputs": [],
   "source": [
    "# Python by Example\n",
    "\n",
    "# Challenges"
   ]
  },
  {
   "cell_type": "code",
   "execution_count": 3,
   "id": "273c2087",
   "metadata": {},
   "outputs": [
    {
     "name": "stdout",
     "output_type": "stream",
     "text": [
      "Enter your first name ? Muhammad Abdullah\n",
      "The length of the first name is :  17\n",
      "Enter your sur name ? Baig\n",
      "The length of the sur name is :  4\n",
      "The name is :  Muhammad Abdullah Baig\n",
      "The length of a name is :  22\n"
     ]
    }
   ],
   "source": [
    "# 080\n",
    "\n",
    "\n",
    "first_name = str(input(\"Enter your first name ? \"))\n",
    "len_fs = print(\"The length of the first name is : \", len(first_name))\n",
    "sur_name = str(input(\"Enter your sur name ? \"))\n",
    "len_sn = print(\"The length of the sur name is : \", len(sur_name))\n",
    "\n",
    "name = first_name + \" \" + sur_name\n",
    "\n",
    "print(\"The name is : \", name)\n",
    "print(\"The length of a name is : \", len(name))\n"
   ]
  },
  {
   "cell_type": "code",
   "execution_count": 11,
   "id": "80b58be7",
   "metadata": {},
   "outputs": [
    {
     "name": "stdout",
     "output_type": "stream",
     "text": [
      "Enter the favourite school subject ? English\n",
      "E-n-g-l-i-s-h-"
     ]
    }
   ],
   "source": [
    "# 081\n",
    "\n",
    "\n",
    "subject = str(input(\"Enter the favourite school subject ? \"))\n",
    "\n",
    "for letter in subject:\n",
    "    print(letter, end = \"-\")\n"
   ]
  },
  {
   "cell_type": "code",
   "execution_count": 13,
   "id": "eadd49bc",
   "metadata": {},
   "outputs": [
    {
     "name": "stdout",
     "output_type": "stream",
     "text": [
      "Enter the starting point of a poem ? 7\n",
      "Enter the ending point of a poem ? 26\n",
      "Hello! What's going\n"
     ]
    }
   ],
   "source": [
    "# 082\n",
    "\n",
    "\n",
    "text = \"Hello, Hello! What's going on?\"\n",
    "\n",
    "start = int(input(\"Enter the starting point of a poem ? \"))\n",
    "end = int(input(\"Enter the ending point of a poem ? \"))\n",
    "\n",
    "print(text[start:end])"
   ]
  },
  {
   "cell_type": "code",
   "execution_count": 9,
   "id": "3f6df023",
   "metadata": {},
   "outputs": [
    {
     "name": "stdout",
     "output_type": "stream",
     "text": [
      "Enter the word in uppercase? abc\n",
      "Enter the word in uppercase? Abc\n",
      "Enter the word in uppercase? ABc\n",
      "Enter the word in uppercase? ABC\n",
      "The word is :  ABC\n"
     ]
    }
   ],
   "source": [
    "# 083\n",
    "\n",
    "\n",
    "lower = True\n",
    "\n",
    "while lower == True:\n",
    "    word = str(input(\"Enter the word in uppercase? \"))\n",
    "    if word.isupper():\n",
    "        lower = False\n",
    "    else:\n",
    "        lower = True\n",
    "        \n",
    "print(\"The word is : \", word)        \n",
    "\n"
   ]
  },
  {
   "cell_type": "code",
   "execution_count": 5,
   "id": "9455e82b",
   "metadata": {},
   "outputs": [
    {
     "name": "stdout",
     "output_type": "stream",
     "text": [
      "Enter the postcode ? ytq7189\n",
      "The first two letters of postcode are in upper case :  YT\n"
     ]
    }
   ],
   "source": [
    "# 084\n",
    "\n",
    "\n",
    "postcode = str(input(\"Enter the postcode ? \"))\n",
    "start = postcode[0:2].upper()\n",
    "    \n",
    "print(\"The first two letters of postcode are in upper case : \", start)"
   ]
  },
  {
   "cell_type": "code",
   "execution_count": 12,
   "id": "7f001586",
   "metadata": {},
   "outputs": [
    {
     "name": "stdout",
     "output_type": "stream",
     "text": [
      "Enter the name ? Sadia\n",
      "There are 3 vowels exists in their name.\n"
     ]
    }
   ],
   "source": [
    "# 085\n",
    "\n",
    "\n",
    "name = str(input(\"Enter the name ? \"))\n",
    "count = 0\n",
    "\n",
    "for i in name.lower():\n",
    "    if i in [\"a\", \"e\", \"i\", \"o\", \"u\"]:\n",
    "        count = count + 1\n",
    "\n",
    "print(f\"There are {count} vowels exists in their name.\")\n",
    "        \n",
    "        "
   ]
  },
  {
   "cell_type": "code",
   "execution_count": 28,
   "id": "13db103b",
   "metadata": {},
   "outputs": [
    {
     "name": "stdout",
     "output_type": "stream",
     "text": [
      "Enter the password? AU123\n",
      "Enter the password again? Au123\n",
      "They must be in the same case!\n"
     ]
    }
   ],
   "source": [
    "# 086\n",
    "\n",
    "\n",
    "password = str(input(\"Enter the password? \"))\n",
    "\n",
    "password_again = str(input(\"Enter the password again? \"))\n",
    "\n",
    "if password == password_again:\n",
    "    print(\"Thank you!\")\n",
    "\n",
    "else:\n",
    "    if password.lower() == password_again.lower():\n",
    "        print(\"They must be in the same case!\")\n",
    "    else:\n",
    "        print(\"Incorrect!\")\n",
    "    \n",
    "    "
   ]
  },
  {
   "cell_type": "code",
   "execution_count": 15,
   "id": "7f91e2ad",
   "metadata": {},
   "outputs": [
    {
     "name": "stdout",
     "output_type": "stream",
     "text": [
      "Enter the word that display in a reverse form ? Hello\n",
      "Reverse order are : \n",
      "o\n",
      "l\n",
      "l\n",
      "e\n",
      "H\n"
     ]
    }
   ],
   "source": [
    "# 087\n",
    "\n",
    "\n",
    "word = str(input(\"Enter the word that display in a reverse form ? \"))\n",
    "word_rev = word[::-1]     # reverse string\n",
    "\n",
    "print(\"Reverse order are : \")\n",
    "for i in word_rev:\n",
    "    print(i)\n",
    "    \n"
   ]
  }
 ],
 "metadata": {
  "kernelspec": {
   "display_name": "Python 3 (ipykernel)",
   "language": "python",
   "name": "python3"
  },
  "language_info": {
   "codemirror_mode": {
    "name": "ipython",
    "version": 3
   },
   "file_extension": ".py",
   "mimetype": "text/x-python",
   "name": "python",
   "nbconvert_exporter": "python",
   "pygments_lexer": "ipython3",
   "version": "3.9.7"
  }
 },
 "nbformat": 4,
 "nbformat_minor": 5
}
