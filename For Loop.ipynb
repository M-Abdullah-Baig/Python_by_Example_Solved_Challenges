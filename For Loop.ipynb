{
 "cells": [
  {
   "cell_type": "code",
   "execution_count": 1,
   "id": "a4b7214c",
   "metadata": {},
   "outputs": [],
   "source": [
    "# Python by Example\n",
    "\n",
    "# Challenges"
   ]
  },
  {
   "cell_type": "code",
   "execution_count": 2,
   "id": "dcb38dad",
   "metadata": {},
   "outputs": [
    {
     "name": "stdout",
     "output_type": "stream",
     "text": [
      "Enter the name ? Ali\n",
      "Ali\n",
      "Ali\n",
      "Ali\n"
     ]
    }
   ],
   "source": [
    "# 035\n",
    "\n",
    "name = str(input(\"Enter the name ? \"))\n",
    "\n",
    "for i in range(3):\n",
    "    print(name)"
   ]
  },
  {
   "cell_type": "code",
   "execution_count": 3,
   "id": "41ef9f8e",
   "metadata": {},
   "outputs": [
    {
     "name": "stdout",
     "output_type": "stream",
     "text": [
      "Enter the name ? Bilal\n",
      "Enter the number that the user wants to show their name ? 2\n",
      "Bilal\n",
      "Bilal\n"
     ]
    }
   ],
   "source": [
    "# 036\n",
    "\n",
    "name = str(input(\"Enter the name ? \"))\n",
    "num = int(input(\"Enter the number that the user wants to show their name ? \"))\n",
    "\n",
    "for i in range(num):\n",
    "    print(name)"
   ]
  },
  {
   "cell_type": "code",
   "execution_count": 14,
   "id": "69e83bc0",
   "metadata": {},
   "outputs": [
    {
     "name": "stdout",
     "output_type": "stream",
     "text": [
      "Enter the name ? Amna\n",
      "A\n",
      "m\n",
      "n\n",
      "a\n"
     ]
    }
   ],
   "source": [
    "# 037\n",
    "\n",
    "name = str(input(\"Enter the name ? \"))\n",
    "\n",
    "for i in name:                 # (or) for i in range(len(name)) \n",
    "    print(i)"
   ]
  },
  {
   "cell_type": "code",
   "execution_count": 5,
   "id": "76dfcd5e",
   "metadata": {},
   "outputs": [
    {
     "name": "stdout",
     "output_type": "stream",
     "text": [
      "Enter the name ? Rimla\n",
      "Enter the number to show the letters of name ? 2\n",
      "R\n",
      "i\n",
      "m\n",
      "l\n",
      "a\n",
      "R\n",
      "i\n",
      "m\n",
      "l\n",
      "a\n"
     ]
    }
   ],
   "source": [
    "# 038\n",
    "\n",
    "name = str(input(\"Enter the name ? \"))\n",
    "num = int(input(\"Enter the number to show the letters of name ? \"))\n",
    "\n",
    "for i in range(num):\n",
    "    for i in name:\n",
    "        print(i)"
   ]
  },
  {
   "cell_type": "code",
   "execution_count": 6,
   "id": "d3dd9267",
   "metadata": {},
   "outputs": [
    {
     "name": "stdout",
     "output_type": "stream",
     "text": [
      "Enter the number between 1 and 12 to show the table of that number ? 9\n",
      "9 * 1 = 9\n",
      "9 * 2 = 18\n",
      "9 * 3 = 27\n",
      "9 * 4 = 36\n",
      "9 * 5 = 45\n",
      "9 * 6 = 54\n",
      "9 * 7 = 63\n",
      "9 * 8 = 72\n",
      "9 * 9 = 81\n",
      "9 * 10 = 90\n"
     ]
    }
   ],
   "source": [
    "# 039\n",
    "\n",
    "num = int(input(\"Enter the number between 1 and 12 to show the table of that number ? \"))\n",
    "\n",
    "for i in range(1, 11):\n",
    "    print(f\"{num} * {i} = {num*i}\")\n"
   ]
  },
  {
   "cell_type": "code",
   "execution_count": 7,
   "id": "f1411aec",
   "metadata": {},
   "outputs": [
    {
     "name": "stdout",
     "output_type": "stream",
     "text": [
      "Enter the number below 50 : 20\n",
      "The numbers to reach from 50 to your given number will be :\n",
      "50\n",
      "49\n",
      "48\n",
      "47\n",
      "46\n",
      "45\n",
      "44\n",
      "43\n",
      "42\n",
      "41\n",
      "40\n",
      "39\n",
      "38\n",
      "37\n",
      "36\n",
      "35\n",
      "34\n",
      "33\n",
      "32\n",
      "31\n",
      "30\n",
      "29\n",
      "28\n",
      "27\n",
      "26\n",
      "25\n",
      "24\n",
      "23\n",
      "22\n",
      "21\n",
      "20\n"
     ]
    }
   ],
   "source": [
    "# 040\n",
    "\n",
    "num = int(input(\"Enter the number below 50 : \"))\n",
    "print(\"The numbers to reach from 50 to your given number will be :\")\n",
    "\n",
    "for i in range(50, num-1, -1):\n",
    "    print(i)"
   ]
  },
  {
   "cell_type": "code",
   "execution_count": 8,
   "id": "beabc71e",
   "metadata": {},
   "outputs": [
    {
     "name": "stdout",
     "output_type": "stream",
     "text": [
      "Enter the name ? Subhan\n",
      "Enter the number ? 3\n",
      "Subhan\n",
      "Subhan\n",
      "Subhan\n"
     ]
    }
   ],
   "source": [
    "# 041\n",
    "\n",
    "name = str(input(\"Enter the name ? \"))\n",
    "num = int(input(\"Enter the number ? \"))\n",
    "\n",
    "if num < 10:\n",
    "    for i in range(num):\n",
    "        print(name)\n",
    "        \n",
    "else:\n",
    "    for i in range(3):\n",
    "        print(\"Too high!\")"
   ]
  },
  {
   "cell_type": "code",
   "execution_count": 12,
   "id": "05572810",
   "metadata": {},
   "outputs": [
    {
     "name": "stdout",
     "output_type": "stream",
     "text": [
      "Enter the number : 3\n",
      "Enter the given number included or not ? yes\n",
      "Enter the number : 3\n",
      "Enter the given number included or not ? yes\n",
      "Enter the number : 4\n",
      "Enter the given number included or not ? yes\n",
      "Enter the number : 9\n",
      "Enter the given number included or not ? no\n",
      "Enter the number : 19\n",
      "Enter the given number included or not ? no\n",
      "The total will be  :  10\n"
     ]
    }
   ],
   "source": [
    "# 042\n",
    "\n",
    "total = 0\n",
    "\n",
    "for i in range(5):\n",
    "    num = int(input(\"Enter the number : \"))\n",
    "    ask = str(input(\"Enter the given number included or not ? \"))\n",
    "    if ask == \"yes\":\n",
    "        total += num\n",
    "\n",
    "print(\"The total will be  : \", total)"
   ]
  },
  {
   "cell_type": "code",
   "execution_count": 10,
   "id": "815a5e03",
   "metadata": {},
   "outputs": [
    {
     "name": "stdout",
     "output_type": "stream",
     "text": [
      "Which direction the user wants to count ? (u or d) d\n",
      "Enter the number below 20 ? 11\n",
      "20\n",
      "19\n",
      "18\n",
      "17\n",
      "16\n",
      "15\n",
      "14\n",
      "13\n",
      "12\n",
      "11\n"
     ]
    }
   ],
   "source": [
    "# 043\n",
    "\n",
    "choice = str(input(\"Which direction the user wants to count ? (u or d) \"))\n",
    "\n",
    "if choice == \"u\":\n",
    "    num = int(input(\"Enter the top number ? \"))\n",
    "    for i in range(1, num+1):\n",
    "        print(i)\n",
    "\n",
    "elif choice == \"d\":\n",
    "    num = int(input(\"Enter the number below 20 ? \"))\n",
    "    for i in range(20, num-1, -1):\n",
    "        print(i)\n",
    "    \n",
    "else:\n",
    "    print(\"I don't understand!\")"
   ]
  },
  {
   "cell_type": "code",
   "execution_count": 11,
   "id": "64e68478",
   "metadata": {},
   "outputs": [
    {
     "name": "stdout",
     "output_type": "stream",
     "text": [
      "How many people do you want to invite in a party ? 4\n",
      "Enter the name ? Aliza\n",
      "Aliza has been invited\n",
      "Enter the name ? Rabia\n",
      "Rabia has been invited\n",
      "Enter the name ? Aimen\n",
      "Aimen has been invited\n",
      "Enter the name ? Anusha\n",
      "Anusha has been invited\n"
     ]
    }
   ],
   "source": [
    "# 044\n",
    "\n",
    "num = int(input(\"How many people do you want to invite in a party ? \"))\n",
    "\n",
    "if num < 10:\n",
    "    for i in range(num):\n",
    "        name = str(input(\"Enter the name ? \"))\n",
    "        print(f\"{name} has been invited\")\n",
    "else:\n",
    "    print(\"Too many people!\")"
   ]
  }
 ],
 "metadata": {
  "kernelspec": {
   "display_name": "Python 3 (ipykernel)",
   "language": "python",
   "name": "python3"
  },
  "language_info": {
   "codemirror_mode": {
    "name": "ipython",
    "version": 3
   },
   "file_extension": ".py",
   "mimetype": "text/x-python",
   "name": "python",
   "nbconvert_exporter": "python",
   "pygments_lexer": "ipython3",
   "version": "3.9.7"
  }
 },
 "nbformat": 4,
 "nbformat_minor": 5
}
