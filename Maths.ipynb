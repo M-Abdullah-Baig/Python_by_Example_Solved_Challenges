{
 "cells": [
  {
   "cell_type": "code",
   "execution_count": 1,
   "id": "acdf0c49",
   "metadata": {},
   "outputs": [],
   "source": [
    "# Python by Example (Book)\n",
    "\n",
    "# Challenges "
   ]
  },
  {
   "cell_type": "code",
   "execution_count": 2,
   "id": "7290fbb6",
   "metadata": {},
   "outputs": [
    {
     "name": "stdout",
     "output_type": "stream",
     "text": [
      "Enter the number with lots of decimal places ? 2.78910263\n",
      "The number multiplied by 2 is :  5.57820526\n",
      "The answer rounded of 2 decimal places will be :  5.58\n"
     ]
    }
   ],
   "source": [
    "# 027 and 028\n",
    "\n",
    "num = float(input(\"Enter the number with lots of decimal places ? \"))\n",
    "\n",
    "num = num * 2\n",
    "\n",
    "print(\"The number multiplied by 2 is : \", num)\n",
    "print(\"The answer rounded of 2 decimal places will be : \", round(num, 2))"
   ]
  },
  {
   "cell_type": "code",
   "execution_count": 3,
   "id": "4196cf7d",
   "metadata": {},
   "outputs": [
    {
     "name": "stdout",
     "output_type": "stream",
     "text": [
      "Enter the number over 500 ? 560\n",
      "The square root of  560 to 2 decimal places is :  23.66\n"
     ]
    }
   ],
   "source": [
    "# 029\n",
    "\n",
    "import math\n",
    "num = int(input(\"Enter the number over 500 ? \"))\n",
    "sqrt_num = math.sqrt(num)\n",
    "print(\"The square root of \", num, \"to 2 decimal places is : \", round(sqrt_num, 2))"
   ]
  },
  {
   "cell_type": "code",
   "execution_count": 4,
   "id": "6d70d683",
   "metadata": {},
   "outputs": [
    {
     "name": "stdout",
     "output_type": "stream",
     "text": [
      "The value of pie to 5 decimal places will be :  3.14159\n"
     ]
    }
   ],
   "source": [
    "# 030\n",
    "\n",
    "import math\n",
    "\n",
    "print(\"The value of pie to 5 decimal places will be : \", round(math.pi, 5))"
   ]
  },
  {
   "cell_type": "code",
   "execution_count": 5,
   "id": "f614bf5b",
   "metadata": {},
   "outputs": [
    {
     "name": "stdout",
     "output_type": "stream",
     "text": [
      "Enter the radius of a cylinder : 4\n",
      "Enter the depth of a cylinder : 5\n",
      "The total volume of a cylinder is :  251.327\n"
     ]
    }
   ],
   "source": [
    "# 032\n",
    "\n",
    "import math\n",
    "radius = int(input(\"Enter the radius of a cylinder : \"))\n",
    "depth = int(input(\"Enter the depth of a cylinder : \"))\n",
    "\n",
    "area = math.pi * (radius ** 2)\n",
    "\n",
    "print(\"The total volume of a cylinder is : \", round(area*depth, 3))"
   ]
  },
  {
   "cell_type": "code",
   "execution_count": 6,
   "id": "f92f2167",
   "metadata": {},
   "outputs": [
    {
     "name": "stdout",
     "output_type": "stream",
     "text": [
      "1) Square\n",
      "2) Triangle\n",
      "\n",
      "Enter a number ? 2\n",
      "Enter the base of a triangle : 3\n",
      "Enter the height of a triangle : 9\n",
      "The area of a Triangle will be :  13.5\n"
     ]
    }
   ],
   "source": [
    "# 034\n",
    "\n",
    "print(\"1) Square\")\n",
    "print(\"2) Triangle\")\n",
    "print()\n",
    "num = int(input(\"Enter a number ? \"))\n",
    "\n",
    "if num == 1:\n",
    "    side = int(input(\"Enter the length of its sides : \"))\n",
    "    print(\"The area of Square will be : \", side ** 2)\n",
    "\n",
    "elif num == 2:\n",
    "    base = int(input(\"Enter the base of a triangle : \"))\n",
    "    height = int(input(\"Enter the height of a triangle : \"))\n",
    "    print(\"The area of a Triangle will be : \", (base * height)/2)\n",
    "    \n",
    "else:\n",
    "    print(\"Incorrect option selected!\")\n",
    "    "
   ]
  }
 ],
 "metadata": {
  "kernelspec": {
   "display_name": "Python 3 (ipykernel)",
   "language": "python",
   "name": "python3"
  },
  "language_info": {
   "codemirror_mode": {
    "name": "ipython",
    "version": 3
   },
   "file_extension": ".py",
   "mimetype": "text/x-python",
   "name": "python",
   "nbconvert_exporter": "python",
   "pygments_lexer": "ipython3",
   "version": "3.9.7"
  }
 },
 "nbformat": 4,
 "nbformat_minor": 5
}
