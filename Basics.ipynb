{
 "cells": [
  {
   "cell_type": "code",
   "execution_count": 20,
   "id": "37bb4862",
   "metadata": {},
   "outputs": [],
   "source": [
    "# Python by Example (Book)\n",
    "\n",
    "# Challenges "
   ]
  },
  {
   "cell_type": "code",
   "execution_count": 24,
   "id": "405762f1",
   "metadata": {},
   "outputs": [
    {
     "name": "stdout",
     "output_type": "stream",
     "text": [
      "Enter User's first name :Muhammad Abdullah\n",
      "Enter User's surname :Baig\n",
      "Hello Muhammad Abdullah Baig\n"
     ]
    }
   ],
   "source": [
    "# 002\n",
    "first_name = input(\"Enter User's first name :\")\n",
    "sur_name = input(\"Enter User's surname :\")\n",
    "\n",
    "# print(f\"Hello {first_name} {sur_name}\")\n",
    "print(\"Hello\", first_name, sur_name)"
   ]
  },
  {
   "cell_type": "code",
   "execution_count": 19,
   "id": "adbebf0b",
   "metadata": {},
   "outputs": [
    {
     "name": "stdout",
     "output_type": "stream",
     "text": [
      "“What do you call a bear with no teeth?”  \n",
      " “A gummy bear!”\n"
     ]
    }
   ],
   "source": [
    "# 003\n",
    "print(\"“What do you call a bear with no teeth?”  \\n “A gummy bear!”\")"
   ]
  },
  {
   "cell_type": "code",
   "execution_count": 26,
   "id": "03163b75",
   "metadata": {},
   "outputs": [
    {
     "name": "stdout",
     "output_type": "stream",
     "text": [
      "Enter the first number : 2\n",
      "Enter the second number : 5\n",
      "Enter the third number : 5\n",
      "The answer is :  35\n"
     ]
    }
   ],
   "source": [
    "# 005\n",
    "\n",
    "num1 = int(input(\"Enter the first number : \"))\n",
    "num2 = int(input(\"Enter the second number : \"))\n",
    "num3 = int(input(\"Enter the third number : \"))\n",
    "\n",
    "result = (num1 + num2) * num3\n",
    "\n",
    "print(\"The answer is : \", result)"
   ]
  },
  {
   "cell_type": "code",
   "execution_count": 30,
   "id": "d435fe48",
   "metadata": {},
   "outputs": [
    {
     "name": "stdout",
     "output_type": "stream",
     "text": [
      "How many slices of pizza the user started with ? 4\n",
      "How many slices they have eaten ? 2\n",
      "Pizza Slices Report\n",
      "You have eaten 2 slices, and the remaining slices will be 2\n"
     ]
    }
   ],
   "source": [
    "# 006\n",
    "\n",
    "total_slices = int(input(\"How many slices of pizza the user started with ? \"))\n",
    "slices_eaten = int(input(\"How many slices they have eaten ? \"))\n",
    "slices_left = ask1 - ask2\n",
    "\n",
    "print(\"Pizza Slices Report\")\n",
    "print(f\"You have eaten {slices_eaten} slices, and the remaining slices will be {slices_left}\")"
   ]
  },
  {
   "cell_type": "code",
   "execution_count": 42,
   "id": "ba036370",
   "metadata": {},
   "outputs": [
    {
     "name": "stdout",
     "output_type": "stream",
     "text": [
      "How much the cost of dinners are ? 2000\n",
      "How many dinners are there ? 4\n",
      "Each person must pay $ :  500\n"
     ]
    }
   ],
   "source": [
    "# 008\n",
    "\n",
    "total_price = int(input(\"How much the cost of dinners are ? \"))\n",
    "total_dinners = int(input(\"How many dinners are there ? \"))\n",
    "\n",
    "individual_price_dinner = int(total_price/total_dinners)\n",
    "\n",
    "print(\"Each person must pay $ : \", individual_price_dinner)"
   ]
  },
  {
   "cell_type": "code",
   "execution_count": 41,
   "id": "2e2c1850",
   "metadata": {},
   "outputs": [
    {
     "name": "stdout",
     "output_type": "stream",
     "text": [
      "Enter number of days ? 2\n",
      "In 2 days, there are ...\n",
      "hours :  48\n",
      "minutes :  2880\n",
      "seconds :  172800\n"
     ]
    }
   ],
   "source": [
    "# 009 \n",
    "\n",
    "num_days = int(input(\"Enter number of days ? \"))\n",
    "\n",
    "hours = num_days * 24\n",
    "minutes = hours * 60\n",
    "seconds = minutes * 60\n",
    "\n",
    "print(f\"In {num_days} days, there are ...\")\n",
    "print(\"hours : \", hours)\n",
    "print(\"minutes : \", minutes)\n",
    "print(\"seconds : \", seconds)"
   ]
  },
  {
   "cell_type": "code",
   "execution_count": 44,
   "id": "04b6f3c7",
   "metadata": {},
   "outputs": [
    {
     "name": "stdout",
     "output_type": "stream",
     "text": [
      "Enter the weight in Kg ? 4\n",
      "Weight in pounds will be :  8816\n"
     ]
    }
   ],
   "source": [
    "# 010\n",
    "\n",
    "weight = int(input(\"Enter the weight in Kg ? \"))\n",
    "\n",
    "converted_weight = weight * 2204\n",
    "\n",
    "print(\"Weight in pounds will be : \", converted_weight)"
   ]
  },
  {
   "cell_type": "code",
   "execution_count": 49,
   "id": "76dd0769",
   "metadata": {},
   "outputs": [
    {
     "name": "stdout",
     "output_type": "stream",
     "text": [
      "Enter the number over 100 : 150\n",
      "Enter the number under 10 : 5\n",
      "5 goes into 150, 30 times\n"
     ]
    }
   ],
   "source": [
    "# 011\n",
    "\n",
    "larger = int(input(\"Enter the number over 100 : \"))\n",
    "smaller = int(input(\"Enter the number under 10 : \"))\n",
    "\n",
    "result = larger // smaller\n",
    "\n",
    "print(f\"{smaller} goes into {larger}, {result} times\")"
   ]
  },
  {
   "cell_type": "code",
   "execution_count": null,
   "id": "d999c6e5",
   "metadata": {},
   "outputs": [],
   "source": []
  }
 ],
 "metadata": {
  "kernelspec": {
   "display_name": "Python 3 (ipykernel)",
   "language": "python",
   "name": "python3"
  },
  "language_info": {
   "codemirror_mode": {
    "name": "ipython",
    "version": 3
   },
   "file_extension": ".py",
   "mimetype": "text/x-python",
   "name": "python",
   "nbconvert_exporter": "python",
   "pygments_lexer": "ipython3",
   "version": "3.9.7"
  }
 },
 "nbformat": 4,
 "nbformat_minor": 5
}
