{
 "cells": [
  {
   "cell_type": "code",
   "execution_count": 1,
   "id": "4ed40bbd",
   "metadata": {},
   "outputs": [],
   "source": [
    "# Python by Example\n",
    "\n",
    "# Challenges"
   ]
  },
  {
   "cell_type": "code",
   "execution_count": 2,
   "id": "142f2aab",
   "metadata": {},
   "outputs": [
    {
     "name": "stdout",
     "output_type": "stream",
     "text": [
      "Enter the number : 20\n",
      "The total is [20]\n",
      "Enter the number : 21\n",
      "The total is [41]\n",
      "Enter the number : 12\n",
      "The total is [53]\n"
     ]
    }
   ],
   "source": [
    "# 045\n",
    "\n",
    "total = 0\n",
    "\n",
    "while total <= 50:\n",
    "    num = int(input(\"Enter the number : \"))\n",
    "    total += num\n",
    "    print(\"The total is\", [total])"
   ]
  },
  {
   "cell_type": "code",
   "execution_count": 3,
   "id": "a02b19fa",
   "metadata": {},
   "outputs": [
    {
     "name": "stdout",
     "output_type": "stream",
     "text": [
      "Enter the number : 2\n",
      "Enter the number : 1\n",
      "Enter the number : 3\n",
      "Enter the number : 4\n",
      "Enter the number : 8\n",
      "The last number you entered was a number [8]\n"
     ]
    }
   ],
   "source": [
    "# 046\n",
    "\n",
    "num = 0\n",
    "\n",
    "while num <= 5:\n",
    "    num = int(input(\"Enter the number : \"))\n",
    "      \n",
    "print(\"The last number you entered was a number\", [num])"
   ]
  },
  {
   "cell_type": "code",
   "execution_count": 4,
   "id": "2f61f670",
   "metadata": {},
   "outputs": [
    {
     "name": "stdout",
     "output_type": "stream",
     "text": [
      "Enter the number : 2\n",
      "Enter the another number : 1\n",
      "You want to add another number ? (y/n) y\n",
      "Enter number that you want to add : 8\n",
      "You want to add another number ? (y/n) y\n",
      "Enter number that you want to add : 9\n",
      "You want to add another number ? (y/n) n\n",
      "The total is : [20]\n"
     ]
    }
   ],
   "source": [
    "# 047\n",
    "\n",
    "num1 = int(input(\"Enter the number : \"))\n",
    "num2 = int(input(\"Enter the another number : \"))\n",
    "num3 = num1 + num2\n",
    "\n",
    "choice = str(input(\"You want to add another number ? (y/n) \"))\n",
    "\n",
    "while choice == \"y\":\n",
    "    num = int(input(\"Enter number that you want to add : \"))\n",
    "    num3 += num\n",
    "    choice = str(input(\"You want to add another number ? (y/n) \"))\n",
    "    \n",
    "print(\"The total is :\", [num3])\n",
    "    "
   ]
  },
  {
   "cell_type": "code",
   "execution_count": 5,
   "id": "1f7d39fd",
   "metadata": {},
   "outputs": [
    {
     "name": "stdout",
     "output_type": "stream",
     "text": [
      "Enter the name that you want to invite in a party ? Bilal\n",
      "Bilal has been invited\n",
      "You want to invite somebody ? (y/n) y\n",
      "Enter the name that you want to invite in a party ? Amna\n",
      "Amna has been invited\n",
      "You want to invite somebody ? (y/n) y\n",
      "Enter the name that you want to invite in a party ? Muchu\n",
      "Muchu has been invited\n",
      "You want to invite somebody ? (y/n) y\n",
      "Enter the name that you want to invite in a party ? Yusra\n",
      "Yusra has been invited\n",
      "You want to invite somebody ? (y/n) n\n",
      "How many many peoples they have coming to the party :  4\n"
     ]
    }
   ],
   "source": [
    "# 048\n",
    "\n",
    "count = 0\n",
    "invite = \"y\"\n",
    "while invite == \"y\":\n",
    "    name = str(input(\"Enter the name that you want to invite in a party ? \"))\n",
    "    count = count + 1\n",
    "    print(f\"{name} has been invited\")\n",
    "    invite = str(input(\"You want to invite somebody ? (y/n) \"))\n",
    "    \n",
    "print(\"How many many peoples they have coming to the party : \", count)"
   ]
  },
  {
   "cell_type": "code",
   "execution_count": 6,
   "id": "798871bb",
   "metadata": {},
   "outputs": [
    {
     "name": "stdout",
     "output_type": "stream",
     "text": [
      "Enter the number between 0 and 100 ? 80\n",
      "Too High\n",
      "You want to guess a number again ? (y/n) y\n",
      "Enter the number between 0 and 100 ? 60\n",
      "High\n",
      "You want to guess a number again ? (y/n) y\n",
      "Enter the number between 0 and 100 ? 40\n",
      "Low\n",
      "You want to guess a number again ? (y/n) y\n",
      "Enter the number between 0 and 100 ? 50\n",
      "Well done, you took [4] attempts\n"
     ]
    }
   ],
   "source": [
    "# 049\n",
    "\n",
    "compnum = 50\n",
    "count = 0\n",
    "\n",
    "again = \"y\"\n",
    "while again == \"y\":\n",
    "    ask = int(input(\"Enter the number between 0 and 100 ? \"))\n",
    "    count = count + 1\n",
    "    \n",
    "    if ask == compnum:\n",
    "        print(\"Well done, you took\", [count] ,\"attempts\")\n",
    "        break\n",
    "        \n",
    "    elif ask <= 30:\n",
    "        print(\"Too Low\")\n",
    "        again = str(input(\"You want to guess a number again ? (y/n) \"))\n",
    "        \n",
    "    elif ask <= 40:\n",
    "        print(\"Low\")\n",
    "        again = str(input(\"You want to guess a number again ? (y/n) \"))\n",
    "        \n",
    "    elif ask <= 49:\n",
    "        print(\"Near to the number\")\n",
    "        again = str(input(\"You want to guess a number again ? (y/n) \"))\n",
    "        \n",
    "    elif ask > 50 and ask <= 60:\n",
    "        print(\"High\")\n",
    "        again = str(input(\"You want to guess a number again ? (y/n) \"))\n",
    "        \n",
    "    else:\n",
    "        print(\"Too High\")\n",
    "        again = str(input(\"You want to guess a number again ? (y/n) \"))\n",
    "            "
   ]
  },
  {
   "cell_type": "code",
   "execution_count": 7,
   "id": "8aa1c734",
   "metadata": {},
   "outputs": [
    {
     "name": "stdout",
     "output_type": "stream",
     "text": [
      "Enter a number : 9\n",
      "Too Low\n",
      "Enter a number : 90\n",
      "Too High\n",
      "Enter a number : 60\n",
      "Too High\n",
      "Enter a number : 3\n",
      "Too Low\n",
      "Enter a number : 14\n",
      "Thank you\n"
     ]
    }
   ],
   "source": [
    "# 050\n",
    "\n",
    "\n",
    "num = int(input(\"Enter a number : \"))\n",
    "\n",
    "while num < 10 or num > 20:\n",
    "    if num < 10:\n",
    "        print(\"Too Low\")\n",
    "        \n",
    "    else:\n",
    "        print(\"Too High\")\n",
    "        \n",
    "    num = int(input(\"Enter a number : \"))\n",
    "\n",
    "    \n",
    "print(\"Thank you\")"
   ]
  },
  {
   "cell_type": "code",
   "execution_count": 10,
   "id": "23efba88",
   "metadata": {},
   "outputs": [
    {
     "name": "stdout",
     "output_type": "stream",
     "text": [
      "Song : 10 green bottles\n",
      "There are 10 green bottles hanging on the wall,\n",
      "10 green bottles hanging on the wall,\n",
      "and if 1 green bottle should accidentally fall\n",
      "how many green bottles will be hanging on the wall? 9\n",
      "There will be 9 green bottles hanging on the wall\n",
      "There are 9 green bottles hanging on the wall,\n",
      "9 green bottles hanging on the wall,\n",
      "and if 1 green bottle should accidentally fall\n",
      "how many green bottles will be hanging on the wall? 8\n",
      "There will be 8 green bottles hanging on the wall\n",
      "There are 8 green bottles hanging on the wall,\n",
      "8 green bottles hanging on the wall,\n",
      "and if 1 green bottle should accidentally fall\n",
      "how many green bottles will be hanging on the wall? 7\n",
      "There will be 7 green bottles hanging on the wall\n",
      "There are 7 green bottles hanging on the wall,\n",
      "7 green bottles hanging on the wall,\n",
      "and if 1 green bottle should accidentally fall\n",
      "how many green bottles will be hanging on the wall? 6\n",
      "There will be 6 green bottles hanging on the wall\n",
      "There are 6 green bottles hanging on the wall,\n",
      "6 green bottles hanging on the wall,\n",
      "and if 1 green bottle should accidentally fall\n",
      "how many green bottles will be hanging on the wall? 5\n",
      "There will be 5 green bottles hanging on the wall\n",
      "There are 5 green bottles hanging on the wall,\n",
      "5 green bottles hanging on the wall,\n",
      "and if 1 green bottle should accidentally fall\n",
      "how many green bottles will be hanging on the wall? 4\n",
      "There will be 4 green bottles hanging on the wall\n",
      "There are 4 green bottles hanging on the wall,\n",
      "4 green bottles hanging on the wall,\n",
      "and if 1 green bottle should accidentally fall\n",
      "how many green bottles will be hanging on the wall? 3\n",
      "There will be 3 green bottles hanging on the wall\n",
      "There are 3 green bottles hanging on the wall,\n",
      "3 green bottles hanging on the wall,\n",
      "and if 1 green bottle should accidentally fall\n",
      "how many green bottles will be hanging on the wall? 2\n",
      "There will be 2 green bottles hanging on the wall\n",
      "There are 2 green bottles hanging on the wall,\n",
      "2 green bottles hanging on the wall,\n",
      "and if 1 green bottle should accidentally fall\n",
      "how many green bottles will be hanging on the wall? 1\n",
      "There will be 1 green bottles hanging on the wall\n",
      "There are 1 green bottles hanging on the wall,\n",
      "1 green bottles hanging on the wall,\n",
      "and if 1 green bottle should accidentally fall\n",
      "how many green bottles will be hanging on the wall? 0\n",
      "There will be 0 green bottles hanging on the wall\n",
      "There are no more green bottles hanging on the wall\n"
     ]
    }
   ],
   "source": [
    "# 051\n",
    "\n",
    "\n",
    "print(\"Song : 10 green bottles\")\n",
    "num = 10\n",
    "\n",
    "while num > 0:\n",
    "    print(f\"There are {num} green bottles hanging on the wall,\") \n",
    "    print(f\"{num} green bottles hanging on the wall,\")\n",
    "    print(f\"and if 1 green bottle should accidentally fall\")\n",
    "    num = num - 1\n",
    "    \n",
    "    ans = int(input(\"how many green bottles will be hanging on the wall? \"))\n",
    "    \n",
    "    if ans == num:\n",
    "        print(f\"There will be {num} green bottles hanging on the wall\")\n",
    "\n",
    "    else:\n",
    "        while ans != num:\n",
    "            ans = int(input(\"No, try again: \"))\n",
    "\n",
    "print(\"There are no more green bottles hanging on the wall\") \n"
   ]
  }
 ],
 "metadata": {
  "kernelspec": {
   "display_name": "Python 3 (ipykernel)",
   "language": "python",
   "name": "python3"
  },
  "language_info": {
   "codemirror_mode": {
    "name": "ipython",
    "version": 3
   },
   "file_extension": ".py",
   "mimetype": "text/x-python",
   "name": "python",
   "nbconvert_exporter": "python",
   "pygments_lexer": "ipython3",
   "version": "3.9.7"
  }
 },
 "nbformat": 4,
 "nbformat_minor": 5
}
