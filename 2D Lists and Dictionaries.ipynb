{
 "cells": [
  {
   "cell_type": "code",
   "execution_count": 1,
   "id": "6370cd50",
   "metadata": {},
   "outputs": [],
   "source": [
    "# Python by Example\n",
    "\n",
    "# Challenges"
   ]
  },
  {
   "cell_type": "code",
   "execution_count": 2,
   "id": "68e278a8",
   "metadata": {},
   "outputs": [
    {
     "name": "stdout",
     "output_type": "stream",
     "text": [
      "[[2, 5, 8], [3, 7, 4], [1, 6, 9], [4, 2, 0]]\n"
     ]
    }
   ],
   "source": [
    "# 096\n",
    "\n",
    "\n",
    "list_ = [[2, 5, 8], [3, 7, 4], [1, 6, 9], [4, 2, 0]]\n",
    "\n",
    "print(list_)\n"
   ]
  },
  {
   "cell_type": "code",
   "execution_count": 4,
   "id": "fd6d5db8",
   "metadata": {},
   "outputs": [
    {
     "name": "stdout",
     "output_type": "stream",
     "text": [
      "[[2, 5, 8], [3, 7, 4], [1, 6, 9], [4, 2, 0]]\n",
      "Select the row ? 1\n",
      "Select the column ? 1\n",
      "The value on the list based on row and column is :  7\n"
     ]
    }
   ],
   "source": [
    "# 097 \n",
    "\n",
    "\n",
    "list_ = [[2, 5, 8], [3, 7, 4], [1, 6, 9], [4, 2, 0]]\n",
    "\n",
    "print(list_)\n",
    "\n",
    "row = int(input(\"Select the row ? \"))\n",
    "column = int(input(\"Select the column ? \"))\n",
    "\n",
    "print(\"The value on the list based on row and column is : \",list_[row][column])"
   ]
  },
  {
   "cell_type": "code",
   "execution_count": 8,
   "id": "c027198f",
   "metadata": {},
   "outputs": [
    {
     "name": "stdout",
     "output_type": "stream",
     "text": [
      "[[2, 5, 8], [3, 7, 4], [1, 6, 9], [4, 2, 0]]\n",
      "Enter the row that they want to show ? 2\n",
      "The row is :  [1, 6, 9]\n",
      "Add the new value into the end of the selected row ? 3\n",
      "The row after adding a new value is : [1, 6, 9, 3]\n"
     ]
    }
   ],
   "source": [
    "# 098\n",
    "\n",
    "\n",
    "list_ = [[2, 5, 8], [3, 7, 4], [1, 6, 9], [4, 2, 0]]\n",
    "\n",
    "print(list_)\n",
    "\n",
    "row = int(input(\"Enter the row that they want to show ? \"))\n",
    "print(\"The row is : \", list_[row])\n",
    "\n",
    "\n",
    "val = int(input(\"Add the new value into the end of the selected row ? \"))\n",
    "list_[row].append(val)\n",
    "\n",
    "print(\"The row after adding a new value is :\", list_[row])\n"
   ]
  },
  {
   "cell_type": "code",
   "execution_count": 14,
   "id": "fccc0d0b",
   "metadata": {},
   "outputs": [
    {
     "name": "stdout",
     "output_type": "stream",
     "text": [
      "[[2, 5, 8], [3, 7, 4], [1, 6, 9], [4, 2, 0]]\n",
      "Enter the row that they want to show ? 2\n",
      "The row is :  [1, 6, 9]\n",
      "Enter the column that they want to show in a selected row ? 0\n",
      "The value is : 1\n",
      "Do you want to change the selected value ? y\n",
      "Enter the value to change the previous one ? 3\n",
      "The row after updating is : [3, 6, 9]\n"
     ]
    }
   ],
   "source": [
    "# 099\n",
    "\n",
    "\n",
    "list_ = [[2, 5, 8], [3, 7, 4], [1, 6, 9], [4, 2, 0]]\n",
    "\n",
    "print(list_)\n",
    "\n",
    "row = int(input(\"Enter the row that they want to show ? \"))\n",
    "print(\"The row is : \", list_[row])\n",
    "\n",
    "col = int(input(\"Enter the column that they want to show in a selected row ? \"))\n",
    "print(\"The value is :\", list_[row][col])\n",
    "\n",
    "choice = str(input(\"Do you want to change the selected value ? \"))\n",
    "if choice == \"y\":\n",
    "    val = int(input(\"Enter the value to change the previous one ? \"))\n",
    "    list_[row][col] = val\n",
    "\n",
    "print(\"The row after updating is :\", list_[row])"
   ]
  },
  {
   "cell_type": "code",
   "execution_count": 19,
   "id": "928562f0",
   "metadata": {},
   "outputs": [
    {
     "name": "stdout",
     "output_type": "stream",
     "text": [
      "The 2D dictionary of sale is :\n",
      " {'John': {'N': 3056, 'S': 8463, 'E': 8441, 'W': 294}, 'Tom': {'N': 4832, 'S': 6786, 'E': 4737, 'W': 3612}, 'Anne': {'N': 5239, 'S': 4802, 'E': 5820, 'W': 1859}, 'Fiona': {'N': 3904, 'S': 3645, 'E': 8821, 'W': 2451}}\n"
     ]
    }
   ],
   "source": [
    "# 100\n",
    "\n",
    "\n",
    "sale = {\n",
    "    \"John\" : {\"N\":3056, \"S\":8463, \"E\":8441, \"W\":294},\n",
    "    \"Tom\" : {\"N\":4832, \"S\":6786, \"E\":4737, \"W\":3612},\n",
    "    \"Anne\" : {\"N\":5239, \"S\":4802, \"E\":5820, \"W\":1859},\n",
    "    \"Fiona\" : {\"N\":3904, \"S\":3645, \"E\":8821, \"W\":2451}\n",
    "}\n",
    "\n",
    "\n",
    "print(\"The 2D dictionary of sale is :\\n\",sale)\n",
    "\n"
   ]
  },
  {
   "cell_type": "code",
   "execution_count": 22,
   "id": "53648359",
   "metadata": {},
   "outputs": [
    {
     "name": "stdout",
     "output_type": "stream",
     "text": [
      "The 2D dictionary of sale is :\n",
      " {'John': {'N': 3056, 'S': 8463, 'E': 8441, 'W': 2694}, 'Tom': {'N': 4832, 'S': 6786, 'E': 4737, 'W': 3612}, 'Anne': {'N': 5239, 'S': 4802, 'E': 5820, 'W': 1859}, 'Fiona': {'N': 3904, 'S': 3645, 'E': 8821, 'W': 2451}}\n",
      "Enter the name ? John\n",
      "Enter the region ? S\n",
      "The specified data from dictionary is : 8463\n",
      "Enter the name that want to change the sale ? Anne\n",
      "Enter the region also ? W\n",
      "The new sale value of a specified data is ? 5000\n",
      "The new data of Anne : {'N': 5239, 'S': 4802, 'E': 5820, 'W': 5000}\n"
     ]
    }
   ],
   "source": [
    "# 101\n",
    "\n",
    "\n",
    "sale = {\n",
    "    \"John\" : {\"N\":3056, \"S\":8463, \"E\":8441, \"W\":2694},\n",
    "    \"Tom\" : {\"N\":4832, \"S\":6786, \"E\":4737, \"W\":3612},\n",
    "    \"Anne\" : {\"N\":5239, \"S\":4802, \"E\":5820, \"W\":1859},\n",
    "    \"Fiona\" : {\"N\":3904, \"S\":3645, \"E\":8821, \"W\":2451}\n",
    "}\n",
    "\n",
    "\n",
    "print(\"The 2D dictionary of sale is :\\n\",sale)\n",
    "\n",
    "name = str(input(\"Enter the name ? \"))\n",
    "region = str(input(\"Enter the region ? \"))\n",
    "\n",
    "print(\"The specified data from dictionary is :\", sale[name][region])\n",
    "\n",
    "name_c = str(input(\"Enter the name that want to change the sale ? \"))\n",
    "region_c = str(input(\"Enter the region also ? \"))\n",
    "\n",
    "sale_new = int(input(\"The new sale value of a specified data is ? \"))\n",
    "sale[name_c][region_c] = sale_new\n",
    "\n",
    "print(f\"The new data of {name_c} : {sale[name_c]}\")"
   ]
  },
  {
   "cell_type": "code",
   "execution_count": 17,
   "id": "a4744b51",
   "metadata": {},
   "outputs": [
    {
     "name": "stdout",
     "output_type": "stream",
     "text": [
      "Enter the name : Fiona\n",
      "Enter the age : 27\n",
      "Enter the show size : 8\n",
      "Enter the name : Anna\n",
      "Enter the age : 30\n",
      "Enter the show size : 9\n",
      "Enter the name : Smith\n",
      "Enter the age : 29\n",
      "Enter the show size : 8\n",
      "Enter the name : Mag\n",
      "Enter the age : 22\n",
      "Enter the show size : 7\n",
      "The dictionary of data is : {'Fiona': {'age': 27, 'show_size': 8}, 'Anna': {'age': 30, 'show_size': 9}, 'Smith': {'age': 29, 'show_size': 8}, 'Mag': {'age': 22, 'show_size': 7}}\n",
      "Enter the name from list to see details ?Anna\n",
      "The details of Anna is : {'age': 30, 'show_size': 9}\n"
     ]
    }
   ],
   "source": [
    "# 102\n",
    "\n",
    "dict_ = {}\n",
    "\n",
    "i = 0\n",
    "while i < 4:\n",
    "    name = str(input(\"Enter the name : \"))\n",
    "    age = int(input(\"Enter the age : \"))\n",
    "    show_size = int(input(\"Enter the show size : \"))\n",
    "    dict_.update({name : {\"age\":age, \"show_size\":show_size}})\n",
    "    #dict_[name] = {\"age\":age, \"show_size\":show_size}\n",
    "    \n",
    "    i = i + 1\n",
    "    \n",
    "print(\"The dictionary of data is :\", dict_)\n",
    "    \n",
    "    \n",
    "name_d = str(input(\"Enter the name from list to see details ?\"))\n",
    "\n",
    "print(f\"The details of {name_d} is : {dict_[name_d]}\")"
   ]
  },
  {
   "cell_type": "code",
   "execution_count": 16,
   "id": "71cf4052",
   "metadata": {},
   "outputs": [
    {
     "name": "stdout",
     "output_type": "stream",
     "text": [
      "Enter the name : David\n",
      "Enter the age : 22\n",
      "Enter the show size : 8\n",
      "Enter the name : Fiona\n",
      "Enter the age : 21\n",
      "Enter the show size : 7\n",
      "Enter the name : Smith\n",
      "Enter the age : 24\n",
      "Enter the show size : 9\n",
      "Enter the name : Anna\n",
      "Enter the age : 21\n",
      "Enter the show size : 6\n",
      "The dictionary of data is : {'David': {'age': 22, 'show_size': 8}, 'Fiona': {'age': 21, 'show_size': 7}, 'Smith': {'age': 24, 'show_size': 9}, 'Anna': {'age': 21, 'show_size': 6}}\n",
      "David 22\n",
      "Fiona 21\n",
      "Smith 24\n",
      "Anna 21\n"
     ]
    }
   ],
   "source": [
    "# 103\n",
    "\n",
    "\n",
    "dict_ = {}\n",
    "\n",
    "i = 0\n",
    "while i < 4:\n",
    "    name = str(input(\"Enter the name : \"))\n",
    "    age = int(input(\"Enter the age : \"))\n",
    "    show_size = int(input(\"Enter the show size : \"))\n",
    "    #dict_.update({name : {\"age\":age, \"show_size\":show_size}})\n",
    "    dict_[name] = {\"age\":age, \"show_size\":show_size}\n",
    "    \n",
    "    i = i + 1\n",
    "\n",
    "print(\"The dictionary of data is :\", dict_)    \n",
    "\n",
    "for name in dict_:\n",
    "    print((name), dict_[name][\"age\"])\n"
   ]
  },
  {
   "cell_type": "code",
   "execution_count": 15,
   "id": "cf94bda4",
   "metadata": {
    "scrolled": true
   },
   "outputs": [
    {
     "name": "stdout",
     "output_type": "stream",
     "text": [
      "Enter the name : Tom\n",
      "Enter the age : 19\n",
      "Enter the show size : 6\n",
      "Enter the name : David\n",
      "Enter the age : 22\n",
      "Enter the show size : 8\n",
      "Enter the name : Fiona\n",
      "Enter the age : 24\n",
      "Enter the show size : 7\n",
      "Enter the name : Smith\n",
      "Enter the age : 21\n",
      "Enter the show size : 9\n",
      "The dictionary of data is : {'Tom': {'age': 19, 'show_size': 6}, 'David': {'age': 22, 'show_size': 8}, 'Fiona': {'age': 24, 'show_size': 7}, 'Smith': {'age': 21, 'show_size': 9}}\n",
      "Enter name from list to delete data ? Smith\n",
      "The list of data after removing Smith is :  {'Tom': {'age': 19, 'show_size': 6}, 'David': {'age': 22, 'show_size': 8}, 'Fiona': {'age': 24, 'show_size': 7}}\n"
     ]
    }
   ],
   "source": [
    "# 104\n",
    "\n",
    "\n",
    "dict_ = {}\n",
    "\n",
    "i = 0\n",
    "while i < 4:\n",
    "    name = str(input(\"Enter the name : \"))\n",
    "    age = int(input(\"Enter the age : \"))\n",
    "    show_size = int(input(\"Enter the show size : \"))\n",
    "    #dict_.update({name : {\"age\":age, \"show_size\":show_size}})\n",
    "    dict_[name] = {\"age\":age, \"show_size\":show_size}\n",
    "    \n",
    "    i = i + 1\n",
    "\n",
    "print(\"The dictionary of data is :\", dict_) \n",
    "\n",
    "\n",
    "name_d = str(input(\"Enter name from list to delete data ? \"))\n",
    "del dict_[name_d]\n",
    "\n",
    "print(f\"The list of data after removing {name_d} is : \", dict_)\n"
   ]
  },
  {
   "cell_type": "code",
   "execution_count": null,
   "id": "7d4d78ab",
   "metadata": {},
   "outputs": [],
   "source": []
  }
 ],
 "metadata": {
  "kernelspec": {
   "display_name": "Python 3 (ipykernel)",
   "language": "python",
   "name": "python3"
  },
  "language_info": {
   "codemirror_mode": {
    "name": "ipython",
    "version": 3
   },
   "file_extension": ".py",
   "mimetype": "text/x-python",
   "name": "python",
   "nbconvert_exporter": "python",
   "pygments_lexer": "ipython3",
   "version": "3.9.7"
  }
 },
 "nbformat": 4,
 "nbformat_minor": 5
}
